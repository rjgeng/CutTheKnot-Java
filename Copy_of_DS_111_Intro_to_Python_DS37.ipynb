{
  "cells": [
    {
      "cell_type": "markdown",
      "metadata": {
        "id": "view-in-github",
        "colab_type": "text"
      },
      "source": [
        "<a href=\"https://colab.research.google.com/github/rjgeng/CutTheKnot-Java/blob/master/Copy_of_DS_111_Intro_to_Python_DS37.ipynb\" target=\"_parent\"><img src=\"https://colab.research.google.com/assets/colab-badge.svg\" alt=\"Open In Colab\"/></a>"
      ]
    },
    {
      "cell_type": "markdown",
      "metadata": {
        "id": "1adef5c8"
      },
      "source": [
        "\n",
        "# Introduction to Python"
      ],
      "id": "1adef5c8"
    },
    {
      "cell_type": "code",
      "source": [
        ""
      ],
      "metadata": {
        "id": "lZKJkFZZJhmF"
      },
      "id": "lZKJkFZZJhmF",
      "execution_count": null,
      "outputs": []
    },
    {
      "cell_type": "markdown",
      "metadata": {
        "id": "8c9755c2"
      },
      "source": [
        "> - Objective 01 - Submit Assignments and Save Work via Canvas\n",
        "> - Objective 02 - Working with Canvas, Colab, and Class Tools\n",
        "> - Objective 03 - Determine and describe Python datatypes\n",
        "> - Objective 04 - Understand Python Syntax, Loops and Conditionals\n",
        "\n"
      ],
      "id": "8c9755c2"
    },
    {
      "cell_type": "markdown",
      "metadata": {
        "id": "40f820a3"
      },
      "source": [
        "# Working with Canvas and Colab"
      ],
      "id": "40f820a3"
    },
    {
      "cell_type": "markdown",
      "metadata": {
        "id": "4904bfd2"
      },
      "source": [
        "## Overview\n",
        "\n",
        "We will use Canvas, Colab and CodeGrade to work on, submit and evaluate projects.\n",
        "\n",
        "**Canvas** is a learning management system you that provides extra information you can use to help prepare for Guided Projects and as a resource when you are working on your individual sproject each afternoon.  \n",
        "\n",
        "**GitHub** is where the notebook for your Module Project is located. \n",
        "\n",
        "**Colab** (where you are right now) is the web-based notebook we will use for working on guided and module projects and sprint challenges.\n",
        "\n",
        "**CodeGrade** is the system that will evaluate your module projects and all your Sprint Challenges.\n",
        "\n",
        "**You will  access to and submit your module projects and sprint challenges in Canvas.**"
      ],
      "id": "4904bfd2"
    },
    {
      "cell_type": "markdown",
      "metadata": {
        "id": "2719bccc"
      },
      "source": [
        "### 1) Open Canvas and navigate to the course for the sprint we are currently in.\n",
        "\n",
        "In this case, it is **Introduction to Python DS1.1 DSXX** where XX is your cohort number.\n",
        "\n",
        "\n",
        "The course will automatically open to the Overview page were you can take a look at all of the concepts we'll be covering throughout the Sprint.  Click on the links to see what will be covered in each module.\n",
        "\n",
        "When you click on Modules on the left hand side, you'll see content for each module divided into three sections:\n",
        "* Warmup is an intro to what will be covered during Guided Project\n",
        "* Engage is where you'll see the module project, the check for understanding, and pulse check.\n",
        "* Review is where you can find links to previous class recordings."
      ],
      "id": "2719bccc"
    },
    {
      "cell_type": "markdown",
      "metadata": {
        "id": "37eb5477"
      },
      "source": [
        "### 2) How to access the Guided and Module Project from Canvas:\n",
        "\n",
        "Under **Engage** in Canvas, click on the **Module # Project** link. This will direct you to Github. \n",
        "\n",
        "The files that we will be working with primarily during the course have the file extension: .ipynb for \"IPython Notebook\" any of these are notebooks that we can open in Google Colab or Jupyter Notebook.\n",
        "\n",
        "You will find all lecture materials and your daily assignments in the Github repositories. "
      ],
      "id": "37eb5477"
    },
    {
      "cell_type": "markdown",
      "metadata": {
        "id": "f04cf99d"
      },
      "source": [
        "### 3) Install the following Google Chrome extension. This will open any .ipynb file from GitHub directly in Google Colab: \n",
        "\n",
        "[Google Chrome Extension to Open .ipynb files easily in Google Colab](https://chrome.google.com/webstore/detail/open-in-colab/iogfkhleblhcpcekbiedikdehleodpjo?hl=en)\n",
        "\n",
        "When open in in Google Colab, go to **File** --> **\"Save a Copy in Drive\"**"
      ],
      "id": "f04cf99d"
    },
    {
      "cell_type": "markdown",
      "metadata": {
        "id": "78ff3be5"
      },
      "source": [
        "### 4) Upload your daily project to CodeGrade\n",
        "Under **Module Project**, click **Load Module Project in a new window** to submit your work. "
      ],
      "id": "78ff3be5"
    },
    {
      "cell_type": "markdown",
      "metadata": {
        "id": "21164afa"
      },
      "source": [
        "# What is Python?"
      ],
      "id": "21164afa"
    },
    {
      "cell_type": "markdown",
      "metadata": {
        "id": "ed02dbf4"
      },
      "source": [
        "From the [source](https://www.python.org/doc/essays/blurb/):\n",
        "\n",
        "\"Python is an interpreted, object-oriented, high-level programming language with dynamic semantics. Its high-level built-in data structures, combined with dynamic typing and dynamic binding, make it very attractive for Rapid Application Development, as well as for use as a scripting or glue language to connect existing components together. Python's simple, easy to learn syntax emphasizes readability and therefore reduces the cost of program maintenance. Python supports modules and packages, which encourages program modularity and code reuse. The Python interpreter and the extensive standard library are available in source or binary form without charge for all major platforms, and can be freely distributed.\"\n"
      ],
      "id": "ed02dbf4"
    },
    {
      "cell_type": "markdown",
      "metadata": {
        "id": "db87a2de"
      },
      "source": [
        "# Python and Notebooks (Colab or Jupyter) \n",
        "\n",
        "We will be using Colab for Unit 1. Colab is a Jupyter Notebook environment that runs on the cloud and stores files in your Google Drive. "
      ],
      "id": "db87a2de"
    },
    {
      "cell_type": "code",
      "execution_count": null,
      "metadata": {
        "colab": {
          "base_uri": "https://localhost:8080/",
          "height": 35
        },
        "id": "5b65aca3",
        "outputId": "c750182a-ec31-49fa-d542-63f2cc7eeef8"
      },
      "outputs": [
        {
          "data": {
            "application/vnd.google.colaboratory.intrinsic+json": {
              "type": "string"
            },
            "text/plain": [
              "'Hello'"
            ]
          },
          "execution_count": 1,
          "metadata": {},
          "output_type": "execute_result"
        }
      ],
      "source": [
        "#run the following cell by clicking on the play button next to this text\n",
        "\"Hello\""
      ],
      "id": "5b65aca3"
    },
    {
      "cell_type": "code",
      "execution_count": null,
      "metadata": {
        "colab": {
          "base_uri": "https://localhost:8080/"
        },
        "id": "6997ad18",
        "outputId": "04582552-3613-4574-bf4b-9792dbad2e0e"
      },
      "outputs": [
        {
          "data": {
            "text/plain": [
              "4"
            ]
          },
          "execution_count": 2,
          "metadata": {},
          "output_type": "execute_result"
        }
      ],
      "source": [
        "#run the following cell by clicking Shift + Return\n",
        "2+2"
      ],
      "id": "6997ad18"
    },
    {
      "cell_type": "code",
      "execution_count": null,
      "metadata": {
        "id": "KiFvHZ_YZoH-"
      },
      "outputs": [],
      "source": [
        ""
      ],
      "id": "KiFvHZ_YZoH-"
    },
    {
      "cell_type": "code",
      "execution_count": null,
      "metadata": {
        "id": "-aY2Tq7hZpdl"
      },
      "outputs": [],
      "source": [
        ""
      ],
      "id": "-aY2Tq7hZpdl"
    },
    {
      "cell_type": "markdown",
      "metadata": {
        "id": "495fe2fe"
      },
      "source": [
        "## Embrace the keyboard shortcuts: \n",
        "- Press 'esc' to enter navigation mode. \n",
        "- The keys 'a' and 'b' create code cells above and below your current cell when in navigation mode. \n",
        "- Click on the 'Tools' tab above to see additional short-cuts.\n",
        "- It's okay to use your mouse. You'll learn to code like a speedster with practice!"
      ],
      "id": "495fe2fe"
    },
    {
      "cell_type": "markdown",
      "metadata": {
        "id": "95419091"
      },
      "source": [
        "## What is a Python Object? "
      ],
      "id": "95419091"
    },
    {
      "cell_type": "code",
      "execution_count": null,
      "metadata": {
        "colab": {
          "base_uri": "https://localhost:8080/"
        },
        "id": "38d0c5e2",
        "outputId": "55bfe3fa-5f7b-4107-b77c-67417a1c77f6"
      },
      "outputs": [
        {
          "data": {
            "text/plain": [
              "2"
            ]
          },
          "execution_count": 3,
          "metadata": {},
          "output_type": "execute_result"
        }
      ],
      "source": [
        "x = 2\n",
        "x"
      ],
      "id": "38d0c5e2"
    },
    {
      "cell_type": "code",
      "execution_count": null,
      "metadata": {
        "id": "29138b15"
      },
      "outputs": [],
      "source": [
        "y = 7"
      ],
      "id": "29138b15"
    },
    {
      "cell_type": "code",
      "execution_count": null,
      "metadata": {
        "colab": {
          "base_uri": "https://localhost:8080/"
        },
        "id": "895a1d1a",
        "outputId": "487231ba-f38b-491c-e9d8-8744987fc1d8"
      },
      "outputs": [
        {
          "data": {
            "text/plain": [
              "9"
            ]
          },
          "execution_count": 5,
          "metadata": {},
          "output_type": "execute_result"
        }
      ],
      "source": [
        "x + y\n"
      ],
      "id": "895a1d1a"
    },
    {
      "cell_type": "code",
      "execution_count": null,
      "metadata": {
        "colab": {
          "base_uri": "https://localhost:8080/"
        },
        "id": "5f26f117",
        "outputId": "77413ec2-9d62-4277-92cf-5bc1e4473307"
      },
      "outputs": [
        {
          "data": {
            "text/plain": [
              "int"
            ]
          },
          "execution_count": 6,
          "metadata": {},
          "output_type": "execute_result"
        }
      ],
      "source": [
        "#What are built-in functions? \n",
        "type(x)"
      ],
      "id": "5f26f117"
    },
    {
      "cell_type": "code",
      "execution_count": null,
      "metadata": {
        "colab": {
          "base_uri": "https://localhost:8080/"
        },
        "id": "a35187dd",
        "outputId": "4be90c58-e2dd-4d23-cd07-0da5e2df977a"
      },
      "outputs": [
        {
          "name": "stdout",
          "output_type": "stream",
          "text": [
            "2\n",
            "<class 'int'>\n"
          ]
        }
      ],
      "source": [
        "#The print statement?\n",
        "print(x)\n",
        "\n",
        "#Difference between output and print statement.\n",
        "y\n",
        "#What happens when you include a print statement next to the y object? \n",
        "\n",
        "print(type(x))"
      ],
      "id": "a35187dd"
    },
    {
      "cell_type": "code",
      "execution_count": null,
      "metadata": {
        "id": "18c4971c"
      },
      "outputs": [],
      "source": [
        ""
      ],
      "id": "18c4971c"
    },
    {
      "cell_type": "markdown",
      "metadata": {
        "id": "1004e67f"
      },
      "source": [
        "## Operators"
      ],
      "id": "1004e67f"
    },
    {
      "cell_type": "code",
      "execution_count": null,
      "metadata": {
        "colab": {
          "base_uri": "https://localhost:8080/"
        },
        "id": "07abe276",
        "outputId": "17ab73cf-ed29-4e93-ecf4-acdf46d3ef45"
      },
      "outputs": [
        {
          "data": {
            "text/plain": [
              "9"
            ]
          },
          "execution_count": 8,
          "metadata": {},
          "output_type": "execute_result"
        }
      ],
      "source": [
        "#+ \n",
        "x + y "
      ],
      "id": "07abe276"
    },
    {
      "cell_type": "code",
      "execution_count": null,
      "metadata": {
        "colab": {
          "base_uri": "https://localhost:8080/"
        },
        "id": "06bd8490",
        "outputId": "0975ea90-d2ef-44e6-ee4b-f11d1b6c71d3"
      },
      "outputs": [
        {
          "data": {
            "text/plain": [
              "-5"
            ]
          },
          "execution_count": 9,
          "metadata": {},
          "output_type": "execute_result"
        }
      ],
      "source": [
        "#- \n",
        "x - y "
      ],
      "id": "06bd8490"
    },
    {
      "cell_type": "code",
      "execution_count": null,
      "metadata": {
        "colab": {
          "base_uri": "https://localhost:8080/"
        },
        "id": "340c0445",
        "outputId": "a9d203b3-101b-433a-9181-2295fc34df1d"
      },
      "outputs": [
        {
          "data": {
            "text/plain": [
              "14"
            ]
          },
          "execution_count": 10,
          "metadata": {},
          "output_type": "execute_result"
        }
      ],
      "source": [
        "\n",
        "#* \n",
        "\n",
        "x*y"
      ],
      "id": "340c0445"
    },
    {
      "cell_type": "code",
      "execution_count": null,
      "metadata": {
        "colab": {
          "base_uri": "https://localhost:8080/"
        },
        "id": "048c8c4f",
        "outputId": "66f0e08c-af15-44f7-d671-f5e5c2974420"
      },
      "outputs": [
        {
          "data": {
            "text/plain": [
              "float"
            ]
          },
          "execution_count": 11,
          "metadata": {},
          "output_type": "execute_result"
        }
      ],
      "source": [
        "\n",
        "\n",
        "#/\n",
        "type(x/y)"
      ],
      "id": "048c8c4f"
    },
    {
      "cell_type": "code",
      "execution_count": null,
      "metadata": {
        "colab": {
          "base_uri": "https://localhost:8080/"
        },
        "id": "4c0b8762",
        "outputId": "8e359a6c-2fda-435e-ffc0-2fa7cf054fd8"
      },
      "outputs": [
        {
          "data": {
            "text/plain": [
              "49"
            ]
          },
          "execution_count": 12,
          "metadata": {},
          "output_type": "execute_result"
        }
      ],
      "source": [
        "\n",
        "# **\n",
        "\n",
        "y**2"
      ],
      "id": "4c0b8762"
    },
    {
      "cell_type": "code",
      "execution_count": null,
      "metadata": {
        "colab": {
          "base_uri": "https://localhost:8080/"
        },
        "id": "c75db545",
        "outputId": "26d5d51c-b5f5-4d7b-fc78-20a8b57e83a5"
      },
      "outputs": [
        {
          "data": {
            "text/plain": [
              "3"
            ]
          },
          "execution_count": 13,
          "metadata": {},
          "output_type": "execute_result"
        }
      ],
      "source": [
        "#//\n",
        "\n",
        "y//2"
      ],
      "id": "c75db545"
    },
    {
      "cell_type": "code",
      "execution_count": null,
      "metadata": {
        "colab": {
          "base_uri": "https://localhost:8080/"
        },
        "id": "72272e4f",
        "outputId": "2608caf4-61d2-4092-fde9-070b5b504d06"
      },
      "outputs": [
        {
          "data": {
            "text/plain": [
              "1"
            ]
          },
          "execution_count": 14,
          "metadata": {},
          "output_type": "execute_result"
        }
      ],
      "source": [
        "\n",
        "#%\n",
        "\n",
        "y%2"
      ],
      "id": "72272e4f"
    },
    {
      "cell_type": "code",
      "execution_count": null,
      "metadata": {
        "colab": {
          "base_uri": "https://localhost:8080/",
          "height": 218
        },
        "id": "8DzzNwCpbm5U",
        "outputId": "77d87f9a-5016-4f97-cd27-3ebd25578fff"
      },
      "outputs": [
        {
          "ename": "NameError",
          "evalue": "ignored",
          "output_type": "error",
          "traceback": [
            "\u001b[0;31m---------------------------------------------------------------------------\u001b[0m",
            "\u001b[0;31mNameError\u001b[0m                                 Traceback (most recent call last)",
            "\u001b[0;32m<ipython-input-15-7b8cab1974fb>\u001b[0m in \u001b[0;36m<module>\u001b[0;34m()\u001b[0m\n\u001b[1;32m      2\u001b[0m \u001b[0;34m\u001b[0m\u001b[0m\n\u001b[1;32m      3\u001b[0m \u001b[0;31m#z = 2\u001b[0m\u001b[0;34m\u001b[0m\u001b[0;34m\u001b[0m\u001b[0;34m\u001b[0m\u001b[0m\n\u001b[0;32m----> 4\u001b[0;31m \u001b[0mz\u001b[0m \u001b[0;34m+=\u001b[0m \u001b[0;36m2\u001b[0m\u001b[0;34m\u001b[0m\u001b[0;34m\u001b[0m\u001b[0m\n\u001b[0m\u001b[1;32m      5\u001b[0m \u001b[0mz\u001b[0m\u001b[0;34m\u001b[0m\u001b[0;34m\u001b[0m\u001b[0m\n",
            "\u001b[0;31mNameError\u001b[0m: name 'z' is not defined"
          ]
        }
      ],
      "source": [
        "# +=\n",
        "\n",
        "#z = 2\n",
        "z += 2\n",
        "z"
      ],
      "id": "8DzzNwCpbm5U"
    },
    {
      "cell_type": "markdown",
      "metadata": {
        "id": "a716ff76"
      },
      "source": [
        "## Booleans"
      ],
      "id": "a716ff76"
    },
    {
      "cell_type": "code",
      "execution_count": null,
      "metadata": {
        "id": "f0072660"
      },
      "outputs": [],
      "source": [
        "print(y == 5)\n",
        "print(x == 2)\n",
        "\n",
        "print(y > 4 and x < 3)\n",
        "print(y > 4 and x > 3)\n",
        "print(y > 4 or x > 3)\n",
        "\n",
        "print(x != 2)"
      ],
      "id": "f0072660"
    },
    {
      "cell_type": "markdown",
      "metadata": {
        "id": "c86409be"
      },
      "source": [
        "## Error Codes\n",
        "(...or How I learned to love my mistakes)"
      ],
      "id": "c86409be"
    },
    {
      "cell_type": "code",
      "execution_count": null,
      "metadata": {
        "id": "85c73a82"
      },
      "outputs": [],
      "source": [
        "b = \"the number three\"\n",
        "b"
      ],
      "id": "85c73a82"
    },
    {
      "cell_type": "code",
      "execution_count": null,
      "metadata": {
        "id": "a04ac3b8"
      },
      "outputs": [],
      "source": [
        "type(b)"
      ],
      "id": "a04ac3b8"
    },
    {
      "cell_type": "code",
      "execution_count": null,
      "metadata": {
        "id": "565b2c8b"
      },
      "outputs": [],
      "source": [
        "#You're gonna get a lot of errors while you're learning to code, and that's okay!\n",
        "x + b\n"
      ],
      "id": "565b2c8b"
    },
    {
      "cell_type": "code",
      "execution_count": null,
      "metadata": {
        "id": "3db0dd1b"
      },
      "outputs": [],
      "source": [
        "((x + y))"
      ],
      "id": "3db0dd1b"
    },
    {
      "cell_type": "code",
      "execution_count": null,
      "metadata": {
        "id": "81a376f6"
      },
      "outputs": [],
      "source": [
        "df"
      ],
      "id": "81a376f6"
    },
    {
      "cell_type": "markdown",
      "metadata": {
        "id": "6b4466bd"
      },
      "source": [
        "## Data Types"
      ],
      "id": "6b4466bd"
    },
    {
      "cell_type": "code",
      "execution_count": null,
      "metadata": {
        "id": "b5c6826e"
      },
      "outputs": [],
      "source": [
        "#integers\n",
        "\n",
        "#floats\n",
        "\n",
        "#strings"
      ],
      "id": "b5c6826e"
    },
    {
      "cell_type": "markdown",
      "metadata": {
        "id": "4c9a120c"
      },
      "source": [
        "#### Lists\n",
        "Used to store multiple items in a single variable. List items are ordered (indexed), changeable, and allow duplicate values. "
      ],
      "id": "4c9a120c"
    },
    {
      "cell_type": "code",
      "execution_count": null,
      "metadata": {
        "colab": {
          "base_uri": "https://localhost:8080/"
        },
        "id": "616b951a",
        "outputId": "907840ca-4bec-4afc-9897-496ffd2c12c8"
      },
      "outputs": [
        {
          "data": {
            "text/plain": [
              "list"
            ]
          },
          "execution_count": 24,
          "metadata": {},
          "output_type": "execute_result"
        }
      ],
      "source": [
        "season_list = ['fall', 'winter', 'summer', 'spring']\n",
        "type(season_list)"
      ],
      "id": "616b951a"
    },
    {
      "cell_type": "code",
      "execution_count": null,
      "metadata": {
        "colab": {
          "base_uri": "https://localhost:8080/"
        },
        "id": "b4c68f7d",
        "outputId": "32546a9a-92ec-46b7-88cb-db940415fdf0"
      },
      "outputs": [
        {
          "data": {
            "text/plain": [
              "['fall', 'winter', 'summer', 'spring', 'spring']"
            ]
          },
          "execution_count": 25,
          "metadata": {},
          "output_type": "execute_result"
        }
      ],
      "source": [
        "season_list = ['fall', 'winter', 'summer', 'spring', 'spring']\n",
        "season_list"
      ],
      "id": "b4c68f7d"
    },
    {
      "cell_type": "markdown",
      "metadata": {
        "id": "1ab4a2f1"
      },
      "source": [
        "#### Sets\n",
        "Sets are unordered, unchangeable and unindexed. "
      ],
      "id": "1ab4a2f1"
    },
    {
      "cell_type": "code",
      "execution_count": null,
      "metadata": {
        "id": "f52fc965"
      },
      "outputs": [],
      "source": [
        "season_set = {'fall', 'winter', 'summer', 'spring'}\n",
        "season_set"
      ],
      "id": "f52fc965"
    },
    {
      "cell_type": "code",
      "execution_count": null,
      "metadata": {
        "id": "11e5c146"
      },
      "outputs": [],
      "source": [
        "season_set = {'summer', 'fall', 'winter',  'spring', 'spring'}\n",
        "\n",
        "season_set"
      ],
      "id": "11e5c146"
    },
    {
      "cell_type": "markdown",
      "metadata": {
        "id": "147b257b"
      },
      "source": [
        "#### Tuples\n",
        "Tuple items are ordered, unchangeable, and allow duplicate values."
      ],
      "id": "147b257b"
    },
    {
      "cell_type": "code",
      "execution_count": null,
      "metadata": {
        "id": "5c5b06a3"
      },
      "outputs": [],
      "source": [
        "season_tuple = ('fall', 'winter', 'summer', 'spring', 'spring')\n",
        "season_tuple"
      ],
      "id": "5c5b06a3"
    },
    {
      "cell_type": "code",
      "execution_count": null,
      "metadata": {
        "id": "bb93a8fa"
      },
      "outputs": [],
      "source": [
        "len(season_tuple)"
      ],
      "id": "bb93a8fa"
    },
    {
      "cell_type": "markdown",
      "metadata": {
        "id": "fc042d03"
      },
      "source": [
        "**Tuple Unpacking**"
      ],
      "id": "fc042d03"
    },
    {
      "cell_type": "code",
      "execution_count": null,
      "metadata": {
        "id": "626ac6d1"
      },
      "outputs": [],
      "source": [
        "season1, season2, season3, season4, season5 = season_tuple\n",
        "season5"
      ],
      "id": "626ac6d1"
    },
    {
      "cell_type": "markdown",
      "metadata": {
        "id": "a15eddf3"
      },
      "source": [
        "#### Dictionaries\n",
        "\n",
        "Dictionaries store values in key:value pairs. The are ordered, changeable and do not allow duplicates."
      ],
      "id": "a15eddf3"
    },
    {
      "cell_type": "code",
      "execution_count": null,
      "metadata": {
        "id": "ef36c64f"
      },
      "outputs": [],
      "source": [
        "\n",
        "season_dict = {\"winter\" : 'cold', 'summer' : 'hot', 'fall' : 'colorful'}\n",
        "season_dict"
      ],
      "id": "ef36c64f"
    },
    {
      "cell_type": "code",
      "execution_count": null,
      "metadata": {
        "id": "fa951fa6"
      },
      "outputs": [],
      "source": [
        "season_dict = {\"winter\" : 'cold', 'summer' : 'hot', 'fall' : 'colorful', 'summer': 'humid'}\n",
        "season_dict"
      ],
      "id": "fa951fa6"
    },
    {
      "cell_type": "code",
      "execution_count": null,
      "metadata": {
        "id": "623c8cad"
      },
      "outputs": [],
      "source": [
        ""
      ],
      "id": "623c8cad"
    },
    {
      "cell_type": "markdown",
      "metadata": {
        "id": "fd236ec6"
      },
      "source": [
        "## Object Methods and How To Use Them\n",
        "Use those keyboard shortcuts! <br>\n",
        "Jupyter Notebook -> Tab after period<br>\n",
        "Colab -> Cursor hover after period"
      ],
      "id": "fd236ec6"
    },
    {
      "cell_type": "code",
      "execution_count": null,
      "metadata": {
        "id": "b482c3cc"
      },
      "outputs": [],
      "source": [
        "#some changes happen in place\n",
        "#pop\n",
        "season_list.pop()"
      ],
      "id": "b482c3cc"
    },
    {
      "cell_type": "code",
      "execution_count": null,
      "metadata": {
        "id": "SpqxSHKugFoc"
      },
      "outputs": [],
      "source": [
        "season_list"
      ],
      "id": "SpqxSHKugFoc"
    },
    {
      "cell_type": "code",
      "execution_count": null,
      "metadata": {
        "id": "66879b10"
      },
      "outputs": [],
      "source": [
        "#keys\n",
        "season_dict.keys()\n",
        "season_dict.values()\n",
        "\n",
        "season_dict['summer']"
      ],
      "id": "66879b10"
    },
    {
      "cell_type": "code",
      "execution_count": null,
      "metadata": {
        "id": "cbb7f5d6"
      },
      "outputs": [],
      "source": [
        "#pop\n",
        "\n",
        "season_dict.pop('summer')"
      ],
      "id": "cbb7f5d6"
    },
    {
      "cell_type": "code",
      "execution_count": null,
      "metadata": {
        "id": "DSwVJSmwgz_R"
      },
      "outputs": [],
      "source": [
        "season_dict"
      ],
      "id": "DSwVJSmwgz_R"
    },
    {
      "cell_type": "code",
      "execution_count": null,
      "metadata": {
        "id": "78715f59"
      },
      "outputs": [],
      "source": [
        "\n",
        "#clear\n",
        "season_dict.clear()"
      ],
      "id": "78715f59"
    },
    {
      "cell_type": "code",
      "execution_count": null,
      "metadata": {
        "id": "3BYvIveCg7g-"
      },
      "outputs": [],
      "source": [
        "type(season_dict)"
      ],
      "id": "3BYvIveCg7g-"
    },
    {
      "cell_type": "code",
      "execution_count": null,
      "metadata": {
        "id": "YO5qjZ4og9mV"
      },
      "outputs": [],
      "source": [
        "\n",
        "season_dict\n",
        "\n",
        "new_dict = {}\n",
        "\n",
        "\n",
        "season_dict.update({'cold_winter':'snow'})\n",
        "season_dict['hot_summer'] = 'beach'"
      ],
      "id": "YO5qjZ4og9mV"
    },
    {
      "cell_type": "code",
      "execution_count": null,
      "metadata": {
        "id": "NlRFKCOEhZ1R"
      },
      "outputs": [],
      "source": [
        "season_dict"
      ],
      "id": "NlRFKCOEhZ1R"
    },
    {
      "cell_type": "markdown",
      "metadata": {
        "id": "22b240e0"
      },
      "source": [
        "## Indexing"
      ],
      "id": "22b240e0"
    },
    {
      "cell_type": "code",
      "execution_count": null,
      "metadata": {
        "id": "080082e3"
      },
      "outputs": [],
      "source": [
        "season_list[1][0:100]\n",
        "season_list[0:100]\n",
        "\n",
        "\n",
        "season_list[1][-1]"
      ],
      "id": "080082e3"
    },
    {
      "cell_type": "code",
      "execution_count": null,
      "metadata": {
        "id": "7e875866"
      },
      "outputs": [],
      "source": [
        ""
      ],
      "id": "7e875866"
    },
    {
      "cell_type": "code",
      "execution_count": null,
      "metadata": {
        "id": "f2c41baf"
      },
      "outputs": [],
      "source": [
        ""
      ],
      "id": "f2c41baf"
    },
    {
      "cell_type": "markdown",
      "metadata": {
        "id": "b2fa83ab"
      },
      "source": [
        "## Loops"
      ],
      "id": "b2fa83ab"
    },
    {
      "cell_type": "code",
      "execution_count": null,
      "metadata": {
        "id": "acfcd571"
      },
      "outputs": [],
      "source": [
        "for i in season_list:\n",
        "  print(i.upper())"
      ],
      "id": "acfcd571"
    },
    {
      "cell_type": "code",
      "execution_count": null,
      "metadata": {
        "id": "43676f14"
      },
      "outputs": [],
      "source": [
        "season_list.capitalize()"
      ],
      "id": "43676f14"
    },
    {
      "cell_type": "markdown",
      "metadata": {
        "id": "d4bf496b"
      },
      "source": [
        "## Conditionals"
      ],
      "id": "d4bf496b"
    },
    {
      "cell_type": "code",
      "execution_count": null,
      "metadata": {
        "id": "55f747e6"
      },
      "outputs": [],
      "source": [
        "y"
      ],
      "id": "55f747e6"
    },
    {
      "cell_type": "code",
      "execution_count": null,
      "metadata": {
        "id": "hOII7EytjLVi"
      },
      "outputs": [],
      "source": [
        "y >= 7"
      ],
      "id": "hOII7EytjLVi"
    },
    {
      "cell_type": "code",
      "execution_count": null,
      "metadata": {
        "id": "7a35dd0c"
      },
      "outputs": [],
      "source": [
        "if y >= 7:\n",
        "  print('Y is greater than 7')"
      ],
      "id": "7a35dd0c"
    },
    {
      "cell_type": "code",
      "execution_count": null,
      "metadata": {
        "id": "ca05f1b2"
      },
      "outputs": [],
      "source": [
        "if y < 7:\n",
        "  print('Y is greater than 7')\n",
        "else: \n",
        "  print('Y is something else?')"
      ],
      "id": "ca05f1b2"
    },
    {
      "cell_type": "code",
      "execution_count": null,
      "metadata": {
        "id": "216654a2"
      },
      "outputs": [],
      "source": [
        ""
      ],
      "id": "216654a2"
    },
    {
      "cell_type": "code",
      "execution_count": null,
      "metadata": {
        "id": "c67825b1"
      },
      "outputs": [],
      "source": [
        "#create empty lists \n",
        "even_numbers = []\n",
        "odd_numbers = []"
      ],
      "id": "c67825b1"
    },
    {
      "cell_type": "code",
      "execution_count": null,
      "metadata": {
        "id": "5dcdb611"
      },
      "outputs": [],
      "source": [
        "for i in range(10):\n",
        "  if i % 2 == 0:\n",
        "    even_numbers.append(i)\n",
        "  else:\n",
        "    odd_numbers.append(i)"
      ],
      "id": "5dcdb611"
    },
    {
      "cell_type": "code",
      "execution_count": null,
      "metadata": {
        "id": "02770b1e"
      },
      "outputs": [],
      "source": [
        "even_numbers"
      ],
      "id": "02770b1e"
    },
    {
      "cell_type": "markdown",
      "metadata": {
        "id": "3767aa2d"
      },
      "source": [
        "## Imports"
      ],
      "id": "3767aa2d"
    },
    {
      "cell_type": "code",
      "execution_count": null,
      "metadata": {
        "id": "81be78ca"
      },
      "outputs": [],
      "source": [
        "\n"
      ],
      "id": "81be78ca"
    },
    {
      "cell_type": "markdown",
      "metadata": {
        "id": "bcc9d485"
      },
      "source": [
        "The most popular data science libraries are numpy, pandas and matplotlib (for visualizations)"
      ],
      "id": "bcc9d485"
    },
    {
      "cell_type": "code",
      "execution_count": null,
      "metadata": {
        "id": "5a21459d"
      },
      "outputs": [],
      "source": [
        "import pandas as pd\n",
        "\n",
        "#from pandas import DataFrame"
      ],
      "id": "5a21459d"
    },
    {
      "cell_type": "code",
      "execution_count": null,
      "metadata": {
        "id": "e004ea6b"
      },
      "outputs": [],
      "source": [
        "import seaborn as sns"
      ],
      "id": "e004ea6b"
    },
    {
      "cell_type": "code",
      "execution_count": null,
      "metadata": {
        "id": "196fc5bb"
      },
      "outputs": [],
      "source": [
        "diamonds = sns.load_dataset('diamonds')"
      ],
      "id": "196fc5bb"
    },
    {
      "cell_type": "code",
      "execution_count": null,
      "metadata": {
        "id": "1580756e"
      },
      "outputs": [],
      "source": [
        "type(diamonds)"
      ],
      "id": "1580756e"
    },
    {
      "cell_type": "code",
      "execution_count": null,
      "metadata": {
        "id": "59b1874c"
      },
      "outputs": [],
      "source": [
        "import this"
      ],
      "id": "59b1874c"
    },
    {
      "cell_type": "code",
      "execution_count": null,
      "metadata": {
        "id": "d2c6693e"
      },
      "outputs": [],
      "source": [
        "season_tuple.count('spring')\n",
        "season_tuple.index('spring')"
      ],
      "id": "d2c6693e"
    },
    {
      "cell_type": "code",
      "execution_count": null,
      "metadata": {
        "id": "4813e8e5"
      },
      "outputs": [],
      "source": [
        "season_list.pop()"
      ],
      "id": "4813e8e5"
    },
    {
      "cell_type": "code",
      "execution_count": null,
      "metadata": {
        "id": "qLumIZtAmh0V"
      },
      "outputs": [],
      "source": [
        "season_list"
      ],
      "id": "qLumIZtAmh0V"
    },
    {
      "cell_type": "code",
      "execution_count": null,
      "metadata": {
        "id": "SrtdWV7VmmzY"
      },
      "outputs": [],
      "source": [
        "season_tuple"
      ],
      "id": "SrtdWV7VmmzY"
    },
    {
      "cell_type": "code",
      "execution_count": null,
      "metadata": {
        "id": "w7ICkUWGm-xS"
      },
      "outputs": [],
      "source": [
        ""
      ],
      "id": "w7ICkUWGm-xS"
    },
    {
      "cell_type": "markdown",
      "metadata": {
        "id": "ReUqo8P1N4W4"
      },
      "source": [
        "**Office Hours**"
      ],
      "id": "ReUqo8P1N4W4"
    },
    {
      "cell_type": "code",
      "execution_count": null,
      "metadata": {
        "id": "expC7g3BN9yT"
      },
      "outputs": [],
      "source": [
        "x = 100\n",
        "y = 200 "
      ],
      "id": "expC7g3BN9yT"
    },
    {
      "cell_type": "code",
      "execution_count": null,
      "metadata": {
        "id": "s9i-REVxODEY"
      },
      "outputs": [],
      "source": [
        "x = 200"
      ],
      "id": "s9i-REVxODEY"
    },
    {
      "cell_type": "code",
      "execution_count": null,
      "metadata": {
        "colab": {
          "base_uri": "https://localhost:8080/"
        },
        "id": "wg-9hWhmOLxE",
        "outputId": "295db213-3db9-46dd-ef77-9f22af8a99b2"
      },
      "outputs": [
        {
          "data": {
            "text/plain": [
              "200"
            ]
          },
          "execution_count": 21,
          "metadata": {},
          "output_type": "execute_result"
        }
      ],
      "source": [
        "x"
      ],
      "id": "wg-9hWhmOLxE"
    },
    {
      "cell_type": "code",
      "execution_count": null,
      "metadata": {
        "id": "XPP63iA-OXzX"
      },
      "outputs": [],
      "source": [
        ""
      ],
      "id": "XPP63iA-OXzX"
    },
    {
      "cell_type": "code",
      "execution_count": null,
      "metadata": {
        "id": "Ph_z37kIOloS"
      },
      "outputs": [],
      "source": [
        "x = 200"
      ],
      "id": "Ph_z37kIOloS"
    },
    {
      "cell_type": "code",
      "execution_count": null,
      "metadata": {
        "id": "8FGtkmamRZmt"
      },
      "outputs": [],
      "source": [
        ""
      ],
      "id": "8FGtkmamRZmt"
    },
    {
      "cell_type": "code",
      "execution_count": null,
      "metadata": {
        "colab": {
          "base_uri": "https://localhost:8080/"
        },
        "id": "7d3W4cCWVnFI",
        "outputId": "bf1ed8dd-a790-4881-8f05-24470b528c11"
      },
      "outputs": [
        {
          "name": "stdout",
          "output_type": "stream",
          "text": [
            "FALL\n",
            "WINTER\n",
            "SUMMER\n",
            "SPRING\n",
            "SPRING\n"
          ]
        }
      ],
      "source": [
        "for i in season_list:\n",
        "  print(i.upper())"
      ],
      "id": "7d3W4cCWVnFI"
    },
    {
      "cell_type": "code",
      "execution_count": null,
      "metadata": {
        "colab": {
          "base_uri": "https://localhost:8080/"
        },
        "id": "a9Axyu4HV4jE",
        "outputId": "14fe9186-aae7-4aa0-c53b-cf46b5f954b9"
      },
      "outputs": [
        {
          "data": {
            "text/plain": [
              "['fall', 'winter', 'summer', 'spring', 'spring']"
            ]
          },
          "execution_count": 27,
          "metadata": {},
          "output_type": "execute_result"
        }
      ],
      "source": [
        "\n",
        "season_list"
      ],
      "id": "a9Axyu4HV4jE"
    },
    {
      "cell_type": "code",
      "execution_count": null,
      "metadata": {
        "colab": {
          "base_uri": "https://localhost:8080/"
        },
        "id": "JrxXrR_rV78h",
        "outputId": "784fbd65-f487-4b42-be14-84ab88b16349"
      },
      "outputs": [
        {
          "data": {
            "text/plain": [
              "['FALL', 'WINTER', 'SUMMER', 'SPRING', 'SPRING']"
            ]
          },
          "execution_count": 28,
          "metadata": {},
          "output_type": "execute_result"
        }
      ],
      "source": [
        "[i.upper() for i in season_list]"
      ],
      "id": "JrxXrR_rV78h"
    },
    {
      "cell_type": "code",
      "execution_count": null,
      "metadata": {
        "id": "sN3Np1nWWeLQ"
      },
      "outputs": [],
      "source": [
        "#create empty lists \n",
        "even_numbers = []\n",
        "odd_numbers = []\n",
        "\n",
        "for i in range(10):\n",
        "  if i % 2 == 0:\n",
        "    even_numbers.append(i)\n",
        "  else:\n",
        "    odd_numbers.append(i)"
      ],
      "id": "sN3Np1nWWeLQ"
    },
    {
      "cell_type": "code",
      "execution_count": null,
      "metadata": {
        "colab": {
          "base_uri": "https://localhost:8080/"
        },
        "id": "QwUnlTMlWvR3",
        "outputId": "ad07ea20-aac4-454d-e8be-e20a5603576e"
      },
      "outputs": [
        {
          "name": "stdout",
          "output_type": "stream",
          "text": [
            "1 is odd\n",
            "2 is even\n",
            "3 is odd\n",
            "4 is even\n",
            "5 is odd\n",
            "6 is even\n",
            "7 is odd\n",
            "8 is even\n",
            "9 is odd\n"
          ]
        },
        {
          "data": {
            "text/plain": [
              "[None, None, None, None, None, None, None, None, None]"
            ]
          },
          "execution_count": 30,
          "metadata": {},
          "output_type": "execute_result"
        }
      ],
      "source": [
        "[print(i, \"is even\") if i % 2 == 0 else print(i, \"is odd\") for i in range(1, 10)]"
      ],
      "id": "QwUnlTMlWvR3"
    },
    {
      "cell_type": "code",
      "execution_count": null,
      "metadata": {
        "colab": {
          "base_uri": "https://localhost:8080/"
        },
        "id": "KMRkoOzyXGm_",
        "outputId": "ee949615-af5b-4eea-840e-1be28c6976b0"
      },
      "outputs": [
        {
          "data": {
            "text/plain": [
              "{'fall': 'colorful', 'summer': 'hot', 'winter': 'cold'}"
            ]
          },
          "execution_count": 31,
          "metadata": {},
          "output_type": "execute_result"
        }
      ],
      "source": [
        "\n",
        "season_dict = {\"winter\" : 'cold', 'summer' : 'hot', 'fall' : 'colorful'}\n",
        "season_dict"
      ],
      "id": "KMRkoOzyXGm_"
    },
    {
      "cell_type": "code",
      "execution_count": null,
      "metadata": {
        "colab": {
          "base_uri": "https://localhost:8080/"
        },
        "id": "DSAHj5ZHXS3n",
        "outputId": "5e8e56e5-4d35-4295-e140-cbe5a21f89b8"
      },
      "outputs": [
        {
          "data": {
            "text/plain": [
              "{'fall': 'COLORFUL', 'summer': 'HOT', 'winter': 'COLD'}"
            ]
          },
          "execution_count": 33,
          "metadata": {},
          "output_type": "execute_result"
        }
      ],
      "source": [
        "{k:v.upper() for k,v in season_dict.items()}"
      ],
      "id": "DSAHj5ZHXS3n"
    },
    {
      "cell_type": "code",
      "execution_count": null,
      "metadata": {
        "colab": {
          "background_save": true,
          "base_uri": "https://localhost:8080/",
          "height": 184
        },
        "id": "PHK3M5RDXj93",
        "outputId": "07e5ee6c-5221-4dc0-dca0-fc430c5ade75"
      },
      "outputs": [
        {
          "name": "stdout",
          "output_type": "stream",
          "text": [
            "COLD\n",
            "HOT\n",
            "COLORFUL\n"
          ]
        }
      ],
      "source": [
        "for key, values in season_dict.items():\n",
        "  print(values.upper())"
      ],
      "id": "PHK3M5RDXj93"
    },
    {
      "cell_type": "code",
      "execution_count": null,
      "metadata": {
        "colab": {
          "base_uri": "https://localhost:8080/"
        },
        "id": "H1aowkhQX_43",
        "outputId": "e86047db-4293-4ef3-959d-45046966b8f6"
      },
      "outputs": [
        {
          "data": {
            "text/plain": [
              "dict_items([('winter', 'cold'), ('summer', 'hot'), ('fall', 'colorful')])"
            ]
          },
          "execution_count": 36,
          "metadata": {},
          "output_type": "execute_result"
        }
      ],
      "source": [
        "season_dict.items()"
      ],
      "id": "H1aowkhQX_43"
    },
    {
      "cell_type": "code",
      "execution_count": null,
      "metadata": {
        "id": "OK_l51GxYGwI"
      },
      "outputs": [],
      "source": [
        "len([('winter', 'cold'), ('summer', 'hot'), ('fall', 'colorful')])\n",
        "list_o_tuples = [('winter', 'cold'), ('summer', 'hot'), ('fall', 'colorful')]"
      ],
      "id": "OK_l51GxYGwI"
    },
    {
      "cell_type": "code",
      "execution_count": null,
      "metadata": {
        "colab": {
          "base_uri": "https://localhost:8080/",
          "height": 35
        },
        "id": "m5wE6OoZYMuR",
        "outputId": "1487ab54-21ae-4581-ddf6-f056bd2bf40d"
      },
      "outputs": [
        {
          "data": {
            "application/vnd.google.colaboratory.intrinsic+json": {
              "type": "string"
            },
            "text/plain": [
              "'mm'"
            ]
          },
          "execution_count": 42,
          "metadata": {},
          "output_type": "execute_result"
        }
      ],
      "source": [
        "list_o_tuples[1][0][2:4]"
      ],
      "id": "m5wE6OoZYMuR"
    },
    {
      "cell_type": "code",
      "execution_count": null,
      "metadata": {
        "id": "ns2srEcMYbfz"
      },
      "outputs": [],
      "source": [
        ""
      ],
      "id": "ns2srEcMYbfz"
    }
  ],
  "metadata": {
    "colab": {
      "collapsed_sections": [
        "495fe2fe",
        "95419091",
        "a716ff76",
        "c86409be",
        "6b4466bd",
        "4c9a120c",
        "1ab4a2f1",
        "147b257b",
        "a15eddf3",
        "fd236ec6",
        "22b240e0",
        "b2fa83ab",
        "d4bf496b"
      ],
      "name": "Copy of DS_111_Intro_to_Python_DS37.ipynb",
      "provenance": [],
      "include_colab_link": true
    },
    "kernelspec": {
      "display_name": "Python 3",
      "language": "python",
      "name": "python3"
    },
    "language_info": {
      "codemirror_mode": {
        "name": "ipython",
        "version": 3
      },
      "file_extension": ".py",
      "mimetype": "text/x-python",
      "name": "python",
      "nbconvert_exporter": "python",
      "pygments_lexer": "ipython3",
      "version": "3.8.8"
    }
  },
  "nbformat": 4,
  "nbformat_minor": 5
}